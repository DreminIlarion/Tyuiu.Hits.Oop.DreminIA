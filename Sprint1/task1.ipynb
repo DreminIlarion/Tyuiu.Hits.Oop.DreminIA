{
 "cells": [
  {
   "cell_type": "markdown",
   "metadata": {},
   "source": [
    "Задание:\n",
    "Ниже в блоке по примеру создайте базовый класс Animal и производные классы (2-3 например Dog, Cat и так далее) реализуйте структуру и объявление класса, включая свойства, геттеры и сеттеры, а также статические и обычными атрибуты и метода класса"
   ]
  },
  {
   "cell_type": "code",
   "execution_count": 1,
   "metadata": {
    "vscode": {
     "languageId": "polyglot-notebook"
    }
   },
   "outputs": [
    {
     "name": "stdout",
     "output_type": "stream",
     "text": [
      "Name: Buddy, Age: 3\n",
      "Buddy, the Golden Retriever, barks!\n",
      "Name: Whiskers, Age: 2\n",
      "Whiskers, the Black cat, meows!\n",
      "Total animals: 2\n"
     ]
    }
   ],
   "source": [
    "using System;\n",
    "\n",
    "public class Animal\n",
    "{\n",
    "    // Приватные поля\n",
    "    private string _name;\n",
    "    private int _age;\n",
    "\n",
    "    // Свойство Name с геттером и сеттером\n",
    "    public string Name\n",
    "    {\n",
    "        get { return _name; }\n",
    "        set { _name = value; }\n",
    "    }\n",
    "\n",
    "    // Свойство Age с геттером и сеттером\n",
    "    public int Age\n",
    "    {\n",
    "        get { return _age; }\n",
    "        set\n",
    "        {\n",
    "            if (value >= 0)\n",
    "                _age = value;\n",
    "            else\n",
    "                throw new ArgumentOutOfRangeException(\"Возраст не может быть отрицательным!\");\n",
    "        }\n",
    "    }\n",
    "\n",
    "    // Статический атрибут для отслеживания общего числа животных\n",
    "    public static int TotalAnimals { get; private set; } = 0;\n",
    "\n",
    "    // Конструктор\n",
    "    public Animal(string name, int age)\n",
    "    {\n",
    "        Name = name;\n",
    "        Age = age;\n",
    "        TotalAnimals++;  // Увеличение общего количества животных\n",
    "    }\n",
    "\n",
    "    // Метод для отображения информации о животном\n",
    "    public void DisplayInfo()\n",
    "    {\n",
    "        Console.WriteLine($\"Name: {Name}, Age: {Age}\");\n",
    "    }\n",
    "\n",
    "    // Статический метод для отображения общего количества животных\n",
    "    public static void DisplayTotalAnimals()\n",
    "    {\n",
    "        Console.WriteLine($\"Total animals: {TotalAnimals}\");\n",
    "    }\n",
    "\n",
    "    // Метод для звука животного (можно переопределить)\n",
    "    public virtual void MakeSound()\n",
    "    {\n",
    "        Console.WriteLine($\"{Name} makes a sound.\");\n",
    "    }\n",
    "}\n",
    "\n",
    "// Производный класс Dog\n",
    "public class Dog : Animal\n",
    "{\n",
    "    private string _breed;\n",
    "\n",
    "    // Свойство Breed с геттером и сеттером\n",
    "    public string Breed\n",
    "    {\n",
    "        get { return _breed; }\n",
    "        set { _breed = value; }\n",
    "    }\n",
    "\n",
    "    // Конструктор\n",
    "    public Dog(string name, int age, string breed) : base(name, age)\n",
    "    {\n",
    "        Breed = breed;\n",
    "    }\n",
    "\n",
    "    // Переопределение метода MakeSound\n",
    "    public override void MakeSound()\n",
    "    {\n",
    "        Console.WriteLine($\"{Name}, the {Breed}, barks!\");\n",
    "    }\n",
    "}\n",
    "\n",
    "// Производный класс Cat\n",
    "public class Cat : Animal\n",
    "{\n",
    "    private string _color;\n",
    "\n",
    "    // Свойство Color с геттером и сеттером\n",
    "    public string Color\n",
    "    {\n",
    "        get { return _color; }\n",
    "        set { _color = value; }\n",
    "    }\n",
    "\n",
    "    // Конструктор\n",
    "    public Cat(string name, int age, string color) : base(name, age)\n",
    "    {\n",
    "        Color = color;\n",
    "    }\n",
    "\n",
    "    // Переопределение метода MakeSound\n",
    "    public override void MakeSound()\n",
    "    {\n",
    "        Console.WriteLine($\"{Name}, the {Color} cat, meows!\");\n",
    "    }\n",
    "}\n",
    "\n",
    "\n",
    "\n",
    "        // Создаем объекты Dog и Cat\n",
    "        Dog dog = new Dog(\"Buddy\", 3, \"Golden Retriever\");\n",
    "        Cat cat = new Cat(\"Whiskers\", 2, \"Black\");\n",
    "\n",
    "        // Вывод информации о животных\n",
    "        dog.DisplayInfo();\n",
    "        dog.MakeSound();\n",
    "\n",
    "        cat.DisplayInfo();\n",
    "        cat.MakeSound();\n",
    "\n",
    "        // Вывод общего количества животных\n",
    "        Animal.DisplayTotalAnimals();"
   ]
  }
 ],
 "metadata": {
  "kernelspec": {
   "display_name": ".NET (C#)",
   "language": "C#",
   "name": ".net-csharp"
  },
  "language_info": {
   "name": "python"
  },
  "polyglot_notebook": {
   "kernelInfo": {
    "defaultKernelName": "csharp",
    "items": [
     {
      "aliases": [],
      "name": "csharp"
     }
    ]
   }
  }
 },
 "nbformat": 4,
 "nbformat_minor": 2
}
