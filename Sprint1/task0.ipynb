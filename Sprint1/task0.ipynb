{
 "cells": [
  {
   "cell_type": "markdown",
   "metadata": {},
   "source": [
    "Задание:\n",
    "Ниже в блоке по примеру создайте базовый класс Animal и реализуйте структуру класса, атрибуты, методы, модификаторы доступа, статические члены, конструкторы, интерфейсы и состояние класса."
   ]
  },
  {
   "cell_type": "code",
   "execution_count": 1,
   "metadata": {
    "vscode": {
     "languageId": "polyglot-notebook"
    }
   },
   "outputs": [
    {
     "name": "stdout",
     "output_type": "stream",
     "text": [
      "Lion is moving.\n",
      "Lion makes a sound.\n",
      "Animal Name: Lion, Age: 5\n",
      "Buddy is moving.\n",
      "Buddy, the Golden Retriever, barks!\n",
      "Dog Name: Buddy, Age: 3, Breed: Golden Retriever\n",
      "Total Animals: 0\n"
     ]
    }
   ],
   "source": [
    "public interface IAnimal\n",
    "{\n",
    "    void MakeSound(); \n",
    "}\n",
    "\n",
    "public class Animal : IAnimal\n",
    "{\n",
    "    private string _name; \n",
    "    private int _age;\n",
    "\n",
    "    public static int TotalAnimals { get; private set; }\n",
    "\n",
    "    public Animal()\n",
    "    {\n",
    "        TotalAnimals++; \n",
    "    }\n",
    "\n",
    "    public Animal(string name, int age)\n",
    "    {\n",
    "        _name = name;\n",
    "        _age = age;\n",
    "    }\n",
    "\n",
    "    public string Name\n",
    "    {\n",
    "        get { return _name; }\n",
    "        set { _name = value; }\n",
    "    }\n",
    "\n",
    "    public int Age\n",
    "    {\n",
    "        get { return _age; }\n",
    "        set { _age = value; }\n",
    "    }\n",
    "\n",
    "    public void Move()\n",
    "    {\n",
    "        Console.WriteLine($\"{_name} is moving.\");\n",
    "    }\n",
    "\n",
    "    public virtual void MakeSound()\n",
    "    {\n",
    "        Console.WriteLine($\"{_name} makes a sound.\");\n",
    "    }\n",
    "\n",
    "    public string GetInfo()\n",
    "    {\n",
    "        return $\"Animal Name: {_name}, Age: {_age}\";\n",
    "    }\n",
    "}\n",
    "\n",
    "public class Dog : Animal\n",
    "{\n",
    "    private string _breed; \n",
    "\n",
    "    public Dog() : base() { }\n",
    "\n",
    "    public Dog(string name, int age, string breed) : base(name, age)\n",
    "    {\n",
    "        _breed = breed;\n",
    "    }\n",
    "\n",
    "    public string Breed\n",
    "    {\n",
    "        get { return _breed; }\n",
    "        set { _breed = value; }\n",
    "    }\n",
    "\n",
    "    public override void MakeSound()\n",
    "    {\n",
    "        Console.WriteLine($\"{Name}, the {_breed}, barks!\");\n",
    "    }\n",
    "\n",
    "    public new string GetInfo()\n",
    "    {\n",
    "        return $\"Dog Name: {Name}, Age: {Age}, Breed: {_breed}\";\n",
    "    }\n",
    "}\n",
    "\n",
    "        Animal animal = new Animal(\"Lion\", 5);\n",
    "        animal.Move();\n",
    "        animal.MakeSound();\n",
    "        Console.WriteLine(animal.GetInfo());\n",
    "\n",
    "        Dog dog = new Dog(\"Buddy\", 3, \"Golden Retriever\");\n",
    "        dog.Move();\n",
    "        dog.MakeSound();\n",
    "        Console.WriteLine(dog.GetInfo());\n",
    "\n",
    "        Console.WriteLine($\"Total Animals: {Animal.TotalAnimals}\");"
   ]
  }
 ],
 "metadata": {
  "kernelspec": {
   "display_name": ".NET (C#)",
   "language": "C#",
   "name": ".net-csharp"
  },
  "language_info": {
   "name": "python"
  },
  "polyglot_notebook": {
   "kernelInfo": {
    "defaultKernelName": "csharp",
    "items": [
     {
      "aliases": [],
      "name": "csharp"
     }
    ]
   }
  }
 },
 "nbformat": 4,
 "nbformat_minor": 2
}
