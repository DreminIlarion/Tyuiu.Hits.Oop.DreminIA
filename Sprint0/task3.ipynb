{
 "cells": [
  {
   "cell_type": "markdown",
   "metadata": {},
   "source": [
    "<h1 style=\"color:DodgerBlue\">Индивидальный проект</h1>"
   ]
  },
  {
   "cell_type": "markdown",
   "metadata": {},
   "source": [
    "<h2 style=\"color:DodgerBlue\">Название проекта:</h2>\n",
    "\n",
    "----\n",
    "\n",
    "### Вариант задания 5\n"
   ]
  },
  {
   "cell_type": "markdown",
   "metadata": {},
   "source": [
    "<h2 style=\"color:DodgerBlue\">Описание проекта:</h2>\n",
    "\n",
    "----\n",
    "\n",
    "Этот проект на C# демонстрирует наследование в объектно-ориентированном программировании на примере системы, работающей с разными типами книг. В проекте реализованы базовый класс для книг и несколько подклассов для специализированных типов книг, таких как учебники, художественная литература и научные труды.\n",
    "\n",
    "Ключевые элементы проекта:\n",
    "Классы:\n",
    "\n",
    "Book — базовый класс, представляющий книгу. Он включает основные свойства книги, такие как название, автор и год публикации. Методы класса предоставляют информацию о книге, позволяют читать и брать её.\n",
    "TextBook — подкласс, представляющий учебник. Помимо стандартных характеристик книги, содержит информацию о предмете учебника. Переопределяет метод Read, чтобы уточнить, что книга — учебник по конкретному предмету.\n",
    "Fiction — подкласс для художественной литературы, который добавляет жанр книги. Переопределяет метод Borrow, чтобы показать, что читатель взял книгу определённого жанра.\n",
    "ScientificLiterature — подкласс для научной литературы, который добавляет информацию об области науки. Переопределяет метод GetInfo, чтобы включить дополнительные данные о научной области книги.\n",
    "Основная логика: В основной программе создаются объекты для разных типов книг:\n",
    "\n",
    "Book — обычная книга без конкретной специализации.\n",
    "TextBook — учебник по математике.\n",
    "Fiction — художественная книга в жанре детектив.\n",
    "ScientificLiterature — книга по физике.\n",
    "Пример использования включает:\n",
    "\n",
    "Вызов метода GetInfo для получения информации о книге.\n",
    "Вызов методов Read и Borrow для каждой книги, которые выводят соответствующее сообщение в зависимости от типа книги.\n"
   ]
  },
  {
   "cell_type": "markdown",
   "metadata": {},
   "source": [
    "<h2 style=\"color:DodgerBlue\">Реализация:</h2>\n",
    "\n",
    "----"
   ]
  },
  {
   "cell_type": "code",
   "execution_count": 2,
   "metadata": {
    "dotnet_interactive": {
     "language": "csharp"
    },
    "polyglot_notebook": {
     "kernelName": "csharp"
    }
   },
   "outputs": [],
   "source": [
    "class Book\n",
    "{\n",
    "    protected string Title;\n",
    "    protected string Author;\n",
    "    protected int YearOfPublication;\n",
    "\n",
    "    public Book(string Title, string Author, int YearOfPublication)\n",
    "    {\n",
    "        this.Title = Title;\n",
    "        this.Author = Author;\n",
    "        this.YearOfPublication = YearOfPublication;\n",
    "    }\n",
    "\n",
    "    public virtual string GetInfo()\n",
    "    {\n",
    "        return $\"Название: {Title}\\nАвтор: {Author}\\nГод издания: {YearOfPublication}\";\n",
    "    }\n",
    "\n",
    "    public virtual string Read()\n",
    "    {\n",
    "        return \"Вы читаете книгу.\";\n",
    "    }\n",
    "\n",
    "    public virtual string Borrow()\n",
    "    {\n",
    "        return \"Вы взяли книгу.\";\n",
    "    }\n",
    "}\n",
    "\n",
    "class TextBook : Book\n",
    "{\n",
    "    protected string Subject;\n",
    "\n",
    "    public TextBook(string title, string author, int yearOfPublication, string subject)\n",
    "        : base(title, author, yearOfPublication)\n",
    "    {\n",
    "        Subject = subject;\n",
    "    }\n",
    "\n",
    "    public override string Read()\n",
    "    {\n",
    "        return $\"Вы читаете учебник по {Subject}.\";\n",
    "    }\n",
    "}\n",
    "\n",
    "class Fiction : Book\n",
    "{\n",
    "    protected string Genre;\n",
    "\n",
    "    public Fiction(string title, string author, int yearOfPublication, string genre)\n",
    "        : base(title, author, yearOfPublication)\n",
    "    {\n",
    "        Genre = genre;\n",
    "    }\n",
    "\n",
    "    public override string Borrow()\n",
    "    {\n",
    "        return $\"Вы взяли {Genre} книгу.\";\n",
    "    }\n",
    "}\n",
    "\n",
    "class ScientificLiterature : Book\n",
    "{\n",
    "    protected string FieldOfScience;\n",
    "\n",
    "    public ScientificLiterature(string title, string author, int yearOfPublication, string fieldOfScience)\n",
    "        : base(title, author, yearOfPublication)\n",
    "    {\n",
    "        FieldOfScience = fieldOfScience;\n",
    "    }\n",
    "\n",
    "    public override string GetInfo()\n",
    "    {\n",
    "        return $\"Название: {Title}\\nАвтор: {Author}\\nГод издания: {YearOfPublication}\\nОбласть науки: {FieldOfScience}\";\n",
    "    }\n",
    "}\n",
    "\n",
    "\n",
    "        Book genericBook = new Book(\"Обычная книга\", \"Джон Доу\", 2000);\n",
    "        Console.WriteLine(genericBook.GetInfo());\n",
    "        Console.WriteLine(genericBook.Read());\n",
    "        Console.WriteLine(genericBook.Borrow());\n",
    "\n",
    "        Console.WriteLine(); \n",
    "\n",
    "        TextBook mathTextbook = new TextBook(\"Математика 101\", \"Джейн Смит\", 2015, \"Математика\");\n",
    "        Console.WriteLine(mathTextbook.GetInfo());\n",
    "        Console.WriteLine(mathTextbook.Read());\n",
    "        Console.WriteLine(mathTextbook.Borrow());\n",
    "\n",
    "        Console.WriteLine(); \n",
    "\n",
    "        Fiction mysteryFiction = new Fiction(\"Детективный роман\", \"Агата Кристи\", 1934, \"Детектив\");\n",
    "        Console.WriteLine(mysteryFiction.GetInfo());\n",
    "        Console.WriteLine(mysteryFiction.Read());\n",
    "        Console.WriteLine(mysteryFiction.Borrow());\n",
    "\n",
    "        Console.WriteLine();\n",
    "\n",
    "        ScientificLiterature physicsBook = new ScientificLiterature(\"Вселенная\", \"Альберт Эйнштейн\", 1923, \"Физика\");\n",
    "        Console.WriteLine(physicsBook.GetInfo());\n",
    "        Console.WriteLine(physicsBook.Read());\n",
    "        Console.WriteLine(physicsBook.Borrow());"
   ]
  }
 ],
 "metadata": {
  "kernelspec": {
   "display_name": ".NET (C#)",
   "language": "C#",
   "name": ".net-csharp"
  },
  "polyglot_notebook": {
   "kernelInfo": {
    "defaultKernelName": "csharp",
    "items": [
     {
      "aliases": [],
      "languageName": "csharp",
      "name": "csharp"
     }
    ]
   }
  }
 },
 "nbformat": 4,
 "nbformat_minor": 2
}
