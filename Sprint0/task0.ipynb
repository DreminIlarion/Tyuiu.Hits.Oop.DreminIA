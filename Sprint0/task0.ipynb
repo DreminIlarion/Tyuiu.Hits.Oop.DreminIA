{
 "cells": [
  {
   "cell_type": "code",
   "execution_count": 1,
   "metadata": {
    "dotnet_interactive": {
     "language": "csharp"
    },
    "polyglot_notebook": {
     "kernelName": "csharp"
    },
    "vscode": {
     "languageId": "polyglot-notebook"
    }
   },
   "outputs": [
    {
     "name": "stdout",
     "output_type": "stream",
     "text": [
      "Минимальное значение: 1\n",
      "Максимальное значение: 9\n",
      "Сумма всех элементов: 41\n",
      "Среднее арифметическое: 5.125\n",
      "Массив после сортировки:\n",
      "1 2 3 5 6 7 8 9 \n",
      "Массив содержит число 6\n"
     ]
    }
   ],
   "source": [
    "int[] numbers =  { 5, 8, 1, 3, 9, 6, 7, 2 };\n",
    "int min = numbers.Min();\n",
    "int max = numbers.Max();\n",
    "Console.WriteLine($\"Минимальное значение: {min}\");\n",
    "Console.WriteLine($\"Максимальное значение: {max}\");\n",
    "\n",
    "    // Найти сумму всех элементов массива\n",
    "int sum = numbers.Sum();\n",
    "Console.WriteLine($\"Сумма всех элементов: {sum}\");\n",
    "\n",
    "    // Найти среднее арифметическое всех элементов массива\n",
    "double average = numbers.Average();\n",
    "Console.WriteLine($\"Среднее арифметическое: {average}\");\n",
    "\n",
    "    // Отсортировать массив в порядке возрастания\n",
    "Array.Sort(numbers);\n",
    "Console.WriteLine(\"Массив после сортировки:\");\n",
    "foreach (var number in numbers)\n",
    "{\n",
    "    Console.Write(number + \" \");\n",
    "}\n",
    "Console.WriteLine();\n",
    "\n",
    "    // Проверить, содержит ли массив определенное число\n",
    "int targetNumber = 6;\n",
    "bool containsTarget = numbers.Contains(targetNumber);\n",
    "if (containsTarget)\n",
    "    {\n",
    "    Console.WriteLine($\"Массив содержит число {targetNumber}\");\n",
    "    }\n",
    "else\n",
    "    {\n",
    "    Console.WriteLine($\"Массив не содержит число {targetNumber}\");\n",
    "    }\n"
   ]
  }
 ],
 "metadata": {
  "kernelspec": {
   "display_name": ".NET (C#)",
   "language": "C#",
   "name": ".net-csharp"
  },
  "language_info": {
   "name": "python"
  },
  "polyglot_notebook": {
   "kernelInfo": {
    "defaultKernelName": "csharp",
    "items": [
     {
      "aliases": [],
      "name": "csharp"
     }
    ]
   }
  }
 },
 "nbformat": 4,
 "nbformat_minor": 2
}
