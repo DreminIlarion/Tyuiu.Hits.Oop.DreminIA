{
 "cells": [
  {
   "cell_type": "markdown",
   "metadata": {},
   "source": [
    "Ниже в блоке реализуйте принцип Single Responsibility Principle (Принцип единственной обязанности) на базе класса Animal"
   ]
  },
  {
   "cell_type": "code",
   "execution_count": 1,
   "metadata": {
    "dotnet_interactive": {
     "language": "csharp"
    },
    "polyglot_notebook": {
     "kernelName": "csharp"
    },
    "vscode": {
     "languageId": "polyglot-notebook"
    }
   },
   "outputs": [],
   "source": [
    "public class Animal\n",
    "{\n",
    "    public string Name { get; set; }\n",
    "\n",
    "    public void Move()\n",
    "    {\n",
    "        Console.WriteLine($\"{Name} движится\");\n",
    "    }\n",
    "}\n",
    "\n",
    "public class AnimalSound\n",
    "{\n",
    "    public void MakeSound(string sound)\n",
    "    {\n",
    "        Console.WriteLine($\"Животное производит звук: {sound}\");\n",
    "    }\n",
    "}"
   ]
  },
  {
   "cell_type": "markdown",
   "metadata": {},
   "source": [
    "Ниже в блоке реализуйте принцип Open/Closed Principle (Принцип открытости/закрытости) на базе класса Animal"
   ]
  },
  {
   "cell_type": "code",
   "execution_count": 2,
   "metadata": {
    "vscode": {
     "languageId": "polyglot-notebook"
    }
   },
   "outputs": [],
   "source": [
    "public abstract class Animal\n",
    "{\n",
    "    public abstract void Move();\n",
    "}\n",
    "\n",
    "public class Dog : Animal\n",
    "{\n",
    "    public override void Move()\n",
    "    {\n",
    "        Console.WriteLine(\"Собака бежит\");\n",
    "    }\n",
    "}\n",
    "\n",
    "public class Bird : Animal\n",
    "{\n",
    "    public override void Move()\n",
    "    {\n",
    "        Console.WriteLine(\"Птица летит\");\n",
    "    }\n",
    "}"
   ]
  },
  {
   "cell_type": "markdown",
   "metadata": {},
   "source": [
    "Ниже в блоке реализуйте принцип Liskov Substitution Principle (Принцип подстановки Лисков) на базе класса Animal"
   ]
  },
  {
   "cell_type": "code",
   "execution_count": 3,
   "metadata": {
    "vscode": {
     "languageId": "polyglot-notebook"
    }
   },
   "outputs": [],
   "source": [
    "public abstract class Animal\n",
    "{\n",
    "    public abstract void Move();\n",
    "}\n",
    "\n",
    "public class Dog : Animal\n",
    "{\n",
    "    public override void Move()\n",
    "    {\n",
    "        Console.WriteLine(\"Собака бежит\");\n",
    "    }\n",
    "}\n",
    "\n",
    "public class Bird : Animal\n",
    "{\n",
    "    public override void Move()\n",
    "    {\n",
    "        Console.WriteLine(\"Птица летит\");\n",
    "    }\n",
    "}\n",
    "\n",
    "public class Zoo\n",
    "{\n",
    "    public void ShowAnimalMove(Animal animal)\n",
    "    {\n",
    "        animal.Move();\n",
    "    }\n",
    "}"
   ]
  },
  {
   "cell_type": "markdown",
   "metadata": {},
   "source": [
    "Задание:\n",
    "Ниже в блоке реализуйте принцип Interface Segregation Principle (Принцип разделения интерфейсов) на базе класса Animal"
   ]
  },
  {
   "cell_type": "code",
   "execution_count": 4,
   "metadata": {
    "vscode": {
     "languageId": "polyglot-notebook"
    }
   },
   "outputs": [],
   "source": [
    "public interface IMovable\n",
    "{\n",
    "    void Move();\n",
    "}\n",
    "\n",
    "public interface ISoundable\n",
    "{\n",
    "    void MakeSound();\n",
    "}\n",
    "\n",
    "public class Dog : IMovable, ISoundable\n",
    "{\n",
    "    public void Move()\n",
    "    {\n",
    "        Console.WriteLine(\"Собака бежит\");\n",
    "    }\n",
    "\n",
    "    public void MakeSound()\n",
    "    {\n",
    "        Console.WriteLine(\"Собака лает\");\n",
    "    }\n",
    "}\n",
    "\n",
    "public class Fish : IMovable\n",
    "{\n",
    "    public void Move()\n",
    "    {\n",
    "        Console.WriteLine(\"Рыба плывёт\");\n",
    "    }\n",
    "}"
   ]
  },
  {
   "cell_type": "markdown",
   "metadata": {},
   "source": [
    "Ниже в блоке реализуйте принцип Dependency Inversion Principle (Принцип инверсии зависимостей) на базе класса Animal"
   ]
  },
  {
   "cell_type": "code",
   "execution_count": 5,
   "metadata": {
    "vscode": {
     "languageId": "polyglot-notebook"
    }
   },
   "outputs": [],
   "source": [
    "public interface IAnimal\n",
    "{\n",
    "    void Move();\n",
    "}\n",
    "\n",
    "public class Dog : IAnimal\n",
    "{\n",
    "    public void Move()\n",
    "    {\n",
    "        Console.WriteLine(\"Собака бежит\");\n",
    "    }\n",
    "}\n",
    "\n",
    "public class AnimalTrainer\n",
    "{\n",
    "    private IAnimal _animal;\n",
    "\n",
    "    public AnimalTrainer(IAnimal animal)\n",
    "    {\n",
    "        _animal = animal;\n",
    "    }\n",
    "\n",
    "    public void Train()\n",
    "    {\n",
    "        _animal.Move();\n",
    "    }\n",
    "}"
   ]
  }
 ],
 "metadata": {
  "kernelspec": {
   "display_name": ".NET (C#)",
   "language": "C#",
   "name": ".net-csharp"
  },
  "language_info": {
   "name": "python"
  },
  "polyglot_notebook": {
   "kernelInfo": {
    "defaultKernelName": "csharp",
    "items": [
     {
      "aliases": [],
      "name": "csharp"
     }
    ]
   }
  }
 },
 "nbformat": 4,
 "nbformat_minor": 2
}
